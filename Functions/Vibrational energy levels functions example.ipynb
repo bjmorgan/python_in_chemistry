{
 "cells": [
  {
   "cell_type": "markdown",
   "id": "91046e6b",
   "metadata": {},
   "source": [
    "# Calculating the first 5 vibrational energy levels for HCl (modelling it as a harmonic oscillator)\n",
    "\n",
    "<img src=\"figures/harmonic_oscillator_energy_levels.png\" width=\"550\"/>\n",
    "\n",
    "## Critical equations\n",
    "\n",
    "Energy levels of a quantum harmonic oscillator:\n",
    "\\begin{equation}\n",
    "E_n = (n+\\frac{1}{2})\\hbar\\omega\n",
    "\\end{equation}\n",
    "\n",
    "Natural vibrational frequency, $\\omega$:\n",
    "\\begin{equation}\n",
    "\\omega = \\sqrt{\\frac{k}{m}}\n",
    "\\end{equation}\n",
    "where $k$ is the bond force constant.\n",
    "\n",
    "Reduced mass, $m$:\n",
    "\\begin{equation}\n",
    "m = \\frac{m_1m_2}{m_1 + m_2}\n",
    "\\end{equation}\n",
    "\n",
    "## Code schematic\n",
    "\n",
    "<img src=\"figures/code_schematic.svg\" width=\"550\"/>"
   ]
  },
  {
   "cell_type": "code",
   "execution_count": 1,
   "id": "1d7b59dd",
   "metadata": {},
   "outputs": [
    {
     "name": "stdout",
     "output_type": "stream",
     "text": [
      "[1447.380546391041, 4342.141639173123, 7236.902731955203, 10131.663824737287, 13026.424917519367]\n"
     ]
    }
   ],
   "source": [
    "from scipy.constants import hbar\n",
    "from scipy.constants import physical_constants\n",
    "\n",
    "import math\n",
    "\n",
    "J_to_reciprocal_cm = physical_constants['joule-inverse meter relationship'][0] / 100\n",
    "\n",
    "amu = physical_constants['atomic mass constant'][0]\n",
    "\n",
    "m1 = 1 * amu # atomic mass of H in kg\n",
    "m2 = 35 * amu # atomic mass of Cl in kg\n",
    "HCl_bond_force_constant = 480 # N m^-1\n",
    "\n",
    "reduced_mass = m1 * m2 / (m1 + m2)\n",
    "vibrational_frequency = math.sqrt(HCl_bond_force_constant / reduced_mass)\n",
    "energy_levels = [(n + 0.5) * hbar * vibrational_frequency * J_to_reciprocal_cm for n in range(5)]\n",
    "\n",
    "print(energy_levels)"
   ]
  },
  {
   "cell_type": "markdown",
   "id": "aeb17cd2",
   "metadata": {},
   "source": [
    "## 1. Organisation"
   ]
  },
  {
   "cell_type": "code",
   "execution_count": 2,
   "id": "27c219bc",
   "metadata": {},
   "outputs": [],
   "source": [
    "def reduced_mass(m1, m2):\n",
    "    \"\"\"Calculate the reduced mass of a diatomic molecule.\n",
    "    \n",
    "    Args:\n",
    "        m1 (float): Mass of atom 1.\n",
    "        m2 (float): Mass of atom 2.\n",
    "        \n",
    "    Returns:\n",
    "        float\n",
    "        \n",
    "    \"\"\"\n",
    "    return m1 * m2 / (m1 + m2)\n",
    "\n",
    "def vibrational_frequency(k, m):\n",
    "    \"\"\"Calculate the natural vibrational frequency of a harmonic oscillator.\n",
    "    \n",
    "    Args:\n",
    "        k (float): bond force constant.\n",
    "        m (float): reduced mass.\n",
    "        \n",
    "    Returns:\n",
    "        float\n",
    "        \n",
    "    \"\"\"\n",
    "    return math.sqrt(k / m)\n",
    "\n",
    "def vibrational_energy(n, omega):\n",
    "    \"\"\"Calculate the vibrational energy for a harmonic oscillator as a function of vibrational quantum number.\n",
    "    \n",
    "    Args:\n",
    "        n (int): the vibrational quantum number.\n",
    "        omega (float): the natural vibrational frequency.\n",
    "        \n",
    "    Returns:\n",
    "        float\n",
    "        \n",
    "    \"\"\"\n",
    "    return (n + 0.5) * hbar * omega"
   ]
  },
  {
   "cell_type": "code",
   "execution_count": 3,
   "id": "9aacfcc2",
   "metadata": {},
   "outputs": [
    {
     "name": "stdout",
     "output_type": "stream",
     "text": [
      "[1447.380546391041, 4342.141639173123, 7236.902731955203, 10131.663824737287, 13026.424917519367]\n"
     ]
    }
   ],
   "source": [
    "m1 = 1 * amu # atomic mass of H in kg\n",
    "m2 = 35 * amu # atomic mass of Cl in kg\n",
    "HCl_bond_force_constant = 480 # N m^-1\n",
    "\n",
    "m_red = reduced_mass(m1, m2)\n",
    "\n",
    "omega = vibrational_frequency(HCl_bond_force_constant, m_red)\n",
    "\n",
    "energy_levels = [vibrational_energy(n, omega) * J_to_reciprocal_cm for n in range(5)]\n",
    "\n",
    "print(energy_levels)"
   ]
  },
  {
   "cell_type": "markdown",
   "id": "42aabf3e",
   "metadata": {},
   "source": [
    "## 2. Reusability:"
   ]
  },
  {
   "cell_type": "code",
   "execution_count": 4,
   "id": "129ba8cc",
   "metadata": {},
   "outputs": [],
   "source": [
    "def energy_levels(m1, m2, k, n_max):\n",
    "    \"\"\"Returns the n lowest energy levels for a diatomic molecule\n",
    "    modelled as a harmonic oscillator.\n",
    "    \n",
    "    Args:\n",
    "        m1 (float): Mass of atom 1.\n",
    "        m2 (float): Mass of atom 2.\n",
    "        k (float): Bond force constant.\n",
    "        n_max (float): Maximum energy level to compute.\n",
    "        \n",
    "    Returns:\n",
    "        list\n",
    "        \n",
    "    \"\"\"\n",
    "    m_red = reduced_mass(m1, m2)\n",
    "    omega = vibrational_frequency(k, m_red)\n",
    "    energy_levels = [vibrational_energy(n, omega) * J_to_reciprocal_cm for n in range(n_max)]\n",
    "    return energy_levels"
   ]
  },
  {
   "cell_type": "code",
   "execution_count": 5,
   "id": "de7c5f38",
   "metadata": {},
   "outputs": [
    {
     "data": {
      "text/plain": [
       "[1447.380546391041,\n",
       " 4342.141639173123,\n",
       " 7236.902731955203,\n",
       " 10131.663824737287,\n",
       " 13026.424917519367]"
      ]
     },
     "execution_count": 5,
     "metadata": {},
     "output_type": "execute_result"
    }
   ],
   "source": [
    "energy_levels(m1, m2, HCl_bond_force_constant, 5)"
   ]
  },
  {
   "cell_type": "markdown",
   "id": "a36e840f",
   "metadata": {},
   "source": [
    "But now we can also do this for, e.g. DCl."
   ]
  },
  {
   "cell_type": "code",
   "execution_count": 6,
   "id": "5a2b90e6",
   "metadata": {},
   "outputs": [
    {
     "data": {
      "text/plain": [
       "[241.2300910651735,\n",
       " 723.6902731955206,\n",
       " 1206.1504553258676,\n",
       " 1688.6106374562146,\n",
       " 2171.070819586562]"
      ]
     },
     "execution_count": 6,
     "metadata": {},
     "output_type": "execute_result"
    }
   ],
   "source": [
    "energy_levels(2.0, m2, HCl_bond_force_constant, 5)"
   ]
  },
  {
   "cell_type": "markdown",
   "id": "a231c768",
   "metadata": {},
   "source": [
    "# 3. Testing:\n",
    "\n",
    "Not going to demonstrate this, but hopefully you can see how this might allow me to test each function in turn against known data (results calculated by hand in this case)."
   ]
  },
  {
   "cell_type": "markdown",
   "id": "b55b376b",
   "metadata": {},
   "source": [
    "# 4. Extensibility\n",
    "\n",
    "What if we want to extend our model to consider an **anharmonic** oscillator (e.g., the potential energy surface is now a Morse potential)?\n",
    "\n",
    "\\begin{equation}\n",
    "E_v = (v+\\frac{1}{2})\\hbar\\omega - (v+\\frac{1}{2})^2\\hbar\\omega x_\\mathrm{e}\n",
    "\\end{equation}"
   ]
  },
  {
   "cell_type": "code",
   "execution_count": 15,
   "id": "57526fcc",
   "metadata": {},
   "outputs": [],
   "source": [
    "def anharmonic_vibrational_energy(n, omega, x_e=0):\n",
    "    \"\"\"Calculate the vibrational energy for Morse oscillator as a function of vibrational quantum number.\n",
    "    \n",
    "    Args:\n",
    "        n (int): the vibrational quantum number.\n",
    "        omega (float): the natural vibrational frequency.\n",
    "        x_e (float): the anharmonicity constant.\n",
    "        \n",
    "    Returns:\n",
    "        float\n",
    "        \n",
    "    \"\"\"\n",
    "    return (n + 0.5) * hbar * omega - (n + 0.5)**2 * hbar * omega * x_e"
   ]
  },
  {
   "cell_type": "code",
   "execution_count": 8,
   "id": "e082fce5",
   "metadata": {},
   "outputs": [],
   "source": [
    "def anharmonic_energy_levels(m1, m2, k, x_e, n_max):\n",
    "    \"\"\"Returns the n lowest energy levels for a diatomic molecule\n",
    "    modelled as a harmonic oscillator.\n",
    "    \n",
    "    Args:\n",
    "        m1 (float): Mass of atom 1.\n",
    "        m2 (float): Mass of atom 2.\n",
    "        k (float): Bond force constant.\n",
    "        n_max (float): Maximum energy level to compute.\n",
    "        \n",
    "    Returns:\n",
    "        list\n",
    "        \n",
    "    \"\"\"\n",
    "    m_red = reduced_mass(m1, m2)\n",
    "    omega = vibrational_frequency(k, m_red)\n",
    "    energy_levels = [anharmonic_vibrational_energy(n, omega, x_e) * J_to_reciprocal_cm for n in range(n_max)]\n",
    "    return energy_levels"
   ]
  },
  {
   "cell_type": "code",
   "execution_count": 11,
   "id": "e7994c9e",
   "metadata": {},
   "outputs": [
    {
     "data": {
      "text/plain": [
       "[1411.196032731265,\n",
       " 4016.481016235139,\n",
       " 6332.289890460803,\n",
       " 8358.622655408262,\n",
       " 10095.47931107751]"
      ]
     },
     "execution_count": 11,
     "metadata": {},
     "output_type": "execute_result"
    }
   ],
   "source": [
    "energy_levels = anharmonic_energy_levels(m1, m2, HCl_bond_force_constant,\n",
    "                                         x_e=0.05, n_max=5)\n",
    "energy_levels"
   ]
  },
  {
   "cell_type": "code",
   "execution_count": 12,
   "id": "ba0a9715",
   "metadata": {},
   "outputs": [
    {
     "data": {
      "text/plain": [
       "[1411.196032731265,\n",
       " 4016.481016235139,\n",
       " 6332.289890460803,\n",
       " 8358.622655408262,\n",
       " 10095.47931107751]"
      ]
     },
     "execution_count": 12,
     "metadata": {},
     "output_type": "execute_result"
    }
   ],
   "source": [
    "energy_levels = anharmonic_energy_levels(m1, m2, HCl_bond_force_constant, 0.05, 5)\n",
    "energy_levels"
   ]
  },
  {
   "cell_type": "code",
   "execution_count": 13,
   "id": "d786fa7f",
   "metadata": {},
   "outputs": [],
   "source": [
    "import matplotlib.pyplot as plt"
   ]
  },
  {
   "cell_type": "code",
   "execution_count": 14,
   "id": "14a403e4",
   "metadata": {},
   "outputs": [
    {
     "data": {
      "image/png": "[encoded data removed]",
      "text/plain": [
       "<Figure size 640x480 with 1 Axes>"
      ]
     },
     "metadata": {},
     "output_type": "display_data"
    }
   ],
   "source": [
    "for e in energy_levels:\n",
    "    plt.axhline(e)"
   ]
  },
  {
   "cell_type": "markdown",
   "id": "28ba80b6",
   "metadata": {},
   "source": [
    "bonus: using optional arguments to support harmonic and anharmonic models in the same function …"
   ]
  },
  {
   "cell_type": "code",
   "execution_count": 18,
   "id": "ba539e3f",
   "metadata": {},
   "outputs": [
    {
     "data": {
      "text/plain": [
       "2.8751430904063944e-20"
      ]
     },
     "execution_count": 18,
     "metadata": {},
     "output_type": "execute_result"
    }
   ],
   "source": [
    "anharmonic_vibrational_energy(0, omega)"
   ]
  },
  {
   "cell_type": "code",
   "execution_count": 19,
   "id": "0d949483",
   "metadata": {},
   "outputs": [
    {
     "data": {
      "text/plain": [
       "2.8751430904063944e-20"
      ]
     },
     "execution_count": 19,
     "metadata": {},
     "output_type": "execute_result"
    }
   ],
   "source": [
    "anharmonic_vibrational_energy(0, omega, x_e=0)"
   ]
  },
  {
   "cell_type": "code",
   "execution_count": null,
   "id": "bb1c4a8c",
   "metadata": {},
   "outputs": [],
   "source": []
  }
 ],
 "metadata": {
  "kernelspec": {
   "display_name": "Python 3 (ipykernel)",
   "language": "python",
   "name": "python3"
  },
  "language_info": {
   "codemirror_mode": {
    "name": "ipython",
    "version": 3
   },
   "file_extension": ".py",
   "mimetype": "text/x-python",
   "name": "python",
   "nbconvert_exporter": "python",
   "pygments_lexer": "ipython3",
   "version": "3.11.0a6"
  }
 },
 "nbformat": 4,
 "nbformat_minor": 5
}
